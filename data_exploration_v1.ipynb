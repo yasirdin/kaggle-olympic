{
 "cells": [
  {
   "cell_type": "markdown",
   "metadata": {},
   "source": [
    "# Exploring kaggle dataset: 120 years of Olympic history: athletes and results\n",
    "***containing:*** bio data on athletes and medal results from Athens 1896 to Rio 2016"
   ]
  },
  {
   "cell_type": "markdown",
   "metadata": {},
   "source": [
    "## Contents of notebook:\n",
    "- [ ] insert links here"
   ]
  },
  {
   "cell_type": "markdown",
   "metadata": {},
   "source": [
    "***Ideas/thoughts to investigate:***\n",
    "- [ ] Russian medal winning over time (in light of doping scandals)\n",
    "- [ ] Medal winners per capita\n",
    "- [ ] Medal winners normalised for: total entrants; population; GDP; etc.\n",
    "    * will have to look at year on year GDP of countries\n",
    "- [ ] Separate consideration on summer and winter olympics\n",
    "- [ ] review the variation of sports in the olympics, make this consistent"
   ]
  },
  {
   "cell_type": "code",
   "execution_count": 1,
   "metadata": {},
   "outputs": [],
   "source": [
    "%load_ext autoreload\n",
    "%autoreload 2"
   ]
  },
  {
   "cell_type": "code",
   "execution_count": 2,
   "metadata": {},
   "outputs": [
    {
     "data": {
      "text/html": [
       "<style>.container { width:90% !important; }</style>"
      ],
      "text/plain": [
       "<IPython.core.display.HTML object>"
      ]
     },
     "metadata": {},
     "output_type": "display_data"
    }
   ],
   "source": [
    "# increase width of cells in notebook\n",
    "from IPython.core.display import display, HTML\n",
    "display(HTML(\"<style>.container { width:90% !important; }</style>\"))"
   ]
  },
  {
   "cell_type": "code",
   "execution_count": 4,
   "metadata": {},
   "outputs": [],
   "source": [
    "import os\n",
    "import pandas as pd\n",
    "import numpy as np\n",
    "import matplotlib.pyplot as plt\n",
    "\n",
    "plt.rcParams[\"figure.dpi\"] = 150\n",
    "plt.rcParams[\"figure.figsize\"] = (8,4)"
   ]
  },
  {
   "cell_type": "markdown",
   "metadata": {},
   "source": [
    "## Parsing .csv's to dataframes, and previewing"
   ]
  },
  {
   "cell_type": "code",
   "execution_count": 5,
   "metadata": {},
   "outputs": [],
   "source": [
    "events_df = pd.read_csv('./data/athlete_events.csv')\n",
    "regions_df = pd.read_csv('./data/noc_regions.csv')"
   ]
  },
  {
   "cell_type": "code",
   "execution_count": 6,
   "metadata": {},
   "outputs": [
    {
     "name": "stdout",
     "output_type": "stream",
     "text": [
      "(271116, 15)\n"
     ]
    },
    {
     "data": {
      "text/html": [
       "<div>\n",
       "<style scoped>\n",
       "    .dataframe tbody tr th:only-of-type {\n",
       "        vertical-align: middle;\n",
       "    }\n",
       "\n",
       "    .dataframe tbody tr th {\n",
       "        vertical-align: top;\n",
       "    }\n",
       "\n",
       "    .dataframe thead th {\n",
       "        text-align: right;\n",
       "    }\n",
       "</style>\n",
       "<table border=\"1\" class=\"dataframe\">\n",
       "  <thead>\n",
       "    <tr style=\"text-align: right;\">\n",
       "      <th></th>\n",
       "      <th>ID</th>\n",
       "      <th>Name</th>\n",
       "      <th>Sex</th>\n",
       "      <th>Age</th>\n",
       "      <th>Height</th>\n",
       "      <th>Weight</th>\n",
       "      <th>Team</th>\n",
       "      <th>NOC</th>\n",
       "      <th>Games</th>\n",
       "      <th>Year</th>\n",
       "      <th>Season</th>\n",
       "      <th>City</th>\n",
       "      <th>Sport</th>\n",
       "      <th>Event</th>\n",
       "      <th>Medal</th>\n",
       "    </tr>\n",
       "  </thead>\n",
       "  <tbody>\n",
       "    <tr>\n",
       "      <th>0</th>\n",
       "      <td>1</td>\n",
       "      <td>A Dijiang</td>\n",
       "      <td>M</td>\n",
       "      <td>24.0</td>\n",
       "      <td>180.0</td>\n",
       "      <td>80.0</td>\n",
       "      <td>China</td>\n",
       "      <td>CHN</td>\n",
       "      <td>1992 Summer</td>\n",
       "      <td>1992</td>\n",
       "      <td>Summer</td>\n",
       "      <td>Barcelona</td>\n",
       "      <td>Basketball</td>\n",
       "      <td>Basketball Men's Basketball</td>\n",
       "      <td>NaN</td>\n",
       "    </tr>\n",
       "    <tr>\n",
       "      <th>1</th>\n",
       "      <td>2</td>\n",
       "      <td>A Lamusi</td>\n",
       "      <td>M</td>\n",
       "      <td>23.0</td>\n",
       "      <td>170.0</td>\n",
       "      <td>60.0</td>\n",
       "      <td>China</td>\n",
       "      <td>CHN</td>\n",
       "      <td>2012 Summer</td>\n",
       "      <td>2012</td>\n",
       "      <td>Summer</td>\n",
       "      <td>London</td>\n",
       "      <td>Judo</td>\n",
       "      <td>Judo Men's Extra-Lightweight</td>\n",
       "      <td>NaN</td>\n",
       "    </tr>\n",
       "    <tr>\n",
       "      <th>2</th>\n",
       "      <td>3</td>\n",
       "      <td>Gunnar Nielsen Aaby</td>\n",
       "      <td>M</td>\n",
       "      <td>24.0</td>\n",
       "      <td>NaN</td>\n",
       "      <td>NaN</td>\n",
       "      <td>Denmark</td>\n",
       "      <td>DEN</td>\n",
       "      <td>1920 Summer</td>\n",
       "      <td>1920</td>\n",
       "      <td>Summer</td>\n",
       "      <td>Antwerpen</td>\n",
       "      <td>Football</td>\n",
       "      <td>Football Men's Football</td>\n",
       "      <td>NaN</td>\n",
       "    </tr>\n",
       "    <tr>\n",
       "      <th>3</th>\n",
       "      <td>4</td>\n",
       "      <td>Edgar Lindenau Aabye</td>\n",
       "      <td>M</td>\n",
       "      <td>34.0</td>\n",
       "      <td>NaN</td>\n",
       "      <td>NaN</td>\n",
       "      <td>Denmark/Sweden</td>\n",
       "      <td>DEN</td>\n",
       "      <td>1900 Summer</td>\n",
       "      <td>1900</td>\n",
       "      <td>Summer</td>\n",
       "      <td>Paris</td>\n",
       "      <td>Tug-Of-War</td>\n",
       "      <td>Tug-Of-War Men's Tug-Of-War</td>\n",
       "      <td>Gold</td>\n",
       "    </tr>\n",
       "    <tr>\n",
       "      <th>4</th>\n",
       "      <td>5</td>\n",
       "      <td>Christine Jacoba Aaftink</td>\n",
       "      <td>F</td>\n",
       "      <td>21.0</td>\n",
       "      <td>185.0</td>\n",
       "      <td>82.0</td>\n",
       "      <td>Netherlands</td>\n",
       "      <td>NED</td>\n",
       "      <td>1988 Winter</td>\n",
       "      <td>1988</td>\n",
       "      <td>Winter</td>\n",
       "      <td>Calgary</td>\n",
       "      <td>Speed Skating</td>\n",
       "      <td>Speed Skating Women's 500 metres</td>\n",
       "      <td>NaN</td>\n",
       "    </tr>\n",
       "  </tbody>\n",
       "</table>\n",
       "</div>"
      ],
      "text/plain": [
       "   ID                      Name Sex   Age  Height  Weight            Team  \\\n",
       "0   1                 A Dijiang   M  24.0   180.0    80.0           China   \n",
       "1   2                  A Lamusi   M  23.0   170.0    60.0           China   \n",
       "2   3       Gunnar Nielsen Aaby   M  24.0     NaN     NaN         Denmark   \n",
       "3   4      Edgar Lindenau Aabye   M  34.0     NaN     NaN  Denmark/Sweden   \n",
       "4   5  Christine Jacoba Aaftink   F  21.0   185.0    82.0     Netherlands   \n",
       "\n",
       "   NOC        Games  Year  Season       City          Sport  \\\n",
       "0  CHN  1992 Summer  1992  Summer  Barcelona     Basketball   \n",
       "1  CHN  2012 Summer  2012  Summer     London           Judo   \n",
       "2  DEN  1920 Summer  1920  Summer  Antwerpen       Football   \n",
       "3  DEN  1900 Summer  1900  Summer      Paris     Tug-Of-War   \n",
       "4  NED  1988 Winter  1988  Winter    Calgary  Speed Skating   \n",
       "\n",
       "                              Event Medal  \n",
       "0       Basketball Men's Basketball   NaN  \n",
       "1      Judo Men's Extra-Lightweight   NaN  \n",
       "2           Football Men's Football   NaN  \n",
       "3       Tug-Of-War Men's Tug-Of-War  Gold  \n",
       "4  Speed Skating Women's 500 metres   NaN  "
      ]
     },
     "execution_count": 6,
     "metadata": {},
     "output_type": "execute_result"
    }
   ],
   "source": [
    "print(events_df.shape)\n",
    "events_df.head()"
   ]
  },
  {
   "cell_type": "code",
   "execution_count": 7,
   "metadata": {},
   "outputs": [
    {
     "name": "stdout",
     "output_type": "stream",
     "text": [
      "<class 'pandas.core.frame.DataFrame'>\n",
      "RangeIndex: 271116 entries, 0 to 271115\n",
      "Data columns (total 15 columns):\n",
      "ID        271116 non-null int64\n",
      "Name      271116 non-null object\n",
      "Sex       271116 non-null object\n",
      "Age       261642 non-null float64\n",
      "Height    210945 non-null float64\n",
      "Weight    208241 non-null float64\n",
      "Team      271116 non-null object\n",
      "NOC       271116 non-null object\n",
      "Games     271116 non-null object\n",
      "Year      271116 non-null int64\n",
      "Season    271116 non-null object\n",
      "City      271116 non-null object\n",
      "Sport     271116 non-null object\n",
      "Event     271116 non-null object\n",
      "Medal     39783 non-null object\n",
      "dtypes: float64(3), int64(2), object(10)\n",
      "memory usage: 31.0+ MB\n"
     ]
    }
   ],
   "source": [
    "events_df.info()\n",
    "\n",
    "# result: missing values for: height, weight, age and medals"
   ]
  },
  {
   "cell_type": "code",
   "execution_count": 8,
   "metadata": {},
   "outputs": [
    {
     "data": {
      "text/html": [
       "<div>\n",
       "<style scoped>\n",
       "    .dataframe tbody tr th:only-of-type {\n",
       "        vertical-align: middle;\n",
       "    }\n",
       "\n",
       "    .dataframe tbody tr th {\n",
       "        vertical-align: top;\n",
       "    }\n",
       "\n",
       "    .dataframe thead th {\n",
       "        text-align: right;\n",
       "    }\n",
       "</style>\n",
       "<table border=\"1\" class=\"dataframe\">\n",
       "  <thead>\n",
       "    <tr style=\"text-align: right;\">\n",
       "      <th></th>\n",
       "      <th>ID</th>\n",
       "      <th>Age</th>\n",
       "      <th>Height</th>\n",
       "      <th>Weight</th>\n",
       "      <th>Year</th>\n",
       "    </tr>\n",
       "  </thead>\n",
       "  <tbody>\n",
       "    <tr>\n",
       "      <th>count</th>\n",
       "      <td>271116.000000</td>\n",
       "      <td>261642.000000</td>\n",
       "      <td>210945.000000</td>\n",
       "      <td>208241.000000</td>\n",
       "      <td>271116.000000</td>\n",
       "    </tr>\n",
       "    <tr>\n",
       "      <th>mean</th>\n",
       "      <td>68248.954396</td>\n",
       "      <td>25.556898</td>\n",
       "      <td>175.338970</td>\n",
       "      <td>70.702393</td>\n",
       "      <td>1978.378480</td>\n",
       "    </tr>\n",
       "    <tr>\n",
       "      <th>std</th>\n",
       "      <td>39022.286345</td>\n",
       "      <td>6.393561</td>\n",
       "      <td>10.518462</td>\n",
       "      <td>14.348020</td>\n",
       "      <td>29.877632</td>\n",
       "    </tr>\n",
       "    <tr>\n",
       "      <th>min</th>\n",
       "      <td>1.000000</td>\n",
       "      <td>10.000000</td>\n",
       "      <td>127.000000</td>\n",
       "      <td>25.000000</td>\n",
       "      <td>1896.000000</td>\n",
       "    </tr>\n",
       "    <tr>\n",
       "      <th>25%</th>\n",
       "      <td>34643.000000</td>\n",
       "      <td>21.000000</td>\n",
       "      <td>168.000000</td>\n",
       "      <td>60.000000</td>\n",
       "      <td>1960.000000</td>\n",
       "    </tr>\n",
       "    <tr>\n",
       "      <th>50%</th>\n",
       "      <td>68205.000000</td>\n",
       "      <td>24.000000</td>\n",
       "      <td>175.000000</td>\n",
       "      <td>70.000000</td>\n",
       "      <td>1988.000000</td>\n",
       "    </tr>\n",
       "    <tr>\n",
       "      <th>75%</th>\n",
       "      <td>102097.250000</td>\n",
       "      <td>28.000000</td>\n",
       "      <td>183.000000</td>\n",
       "      <td>79.000000</td>\n",
       "      <td>2002.000000</td>\n",
       "    </tr>\n",
       "    <tr>\n",
       "      <th>max</th>\n",
       "      <td>135571.000000</td>\n",
       "      <td>97.000000</td>\n",
       "      <td>226.000000</td>\n",
       "      <td>214.000000</td>\n",
       "      <td>2016.000000</td>\n",
       "    </tr>\n",
       "  </tbody>\n",
       "</table>\n",
       "</div>"
      ],
      "text/plain": [
       "                  ID            Age         Height         Weight  \\\n",
       "count  271116.000000  261642.000000  210945.000000  208241.000000   \n",
       "mean    68248.954396      25.556898     175.338970      70.702393   \n",
       "std     39022.286345       6.393561      10.518462      14.348020   \n",
       "min         1.000000      10.000000     127.000000      25.000000   \n",
       "25%     34643.000000      21.000000     168.000000      60.000000   \n",
       "50%     68205.000000      24.000000     175.000000      70.000000   \n",
       "75%    102097.250000      28.000000     183.000000      79.000000   \n",
       "max    135571.000000      97.000000     226.000000     214.000000   \n",
       "\n",
       "                Year  \n",
       "count  271116.000000  \n",
       "mean     1978.378480  \n",
       "std        29.877632  \n",
       "min      1896.000000  \n",
       "25%      1960.000000  \n",
       "50%      1988.000000  \n",
       "75%      2002.000000  \n",
       "max      2016.000000  "
      ]
     },
     "execution_count": 8,
     "metadata": {},
     "output_type": "execute_result"
    }
   ],
   "source": [
    "events_df.describe()"
   ]
  },
  {
   "cell_type": "code",
   "execution_count": 9,
   "metadata": {},
   "outputs": [
    {
     "name": "stdout",
     "output_type": "stream",
     "text": [
      "(230, 3)\n"
     ]
    },
    {
     "data": {
      "text/html": [
       "<div>\n",
       "<style scoped>\n",
       "    .dataframe tbody tr th:only-of-type {\n",
       "        vertical-align: middle;\n",
       "    }\n",
       "\n",
       "    .dataframe tbody tr th {\n",
       "        vertical-align: top;\n",
       "    }\n",
       "\n",
       "    .dataframe thead th {\n",
       "        text-align: right;\n",
       "    }\n",
       "</style>\n",
       "<table border=\"1\" class=\"dataframe\">\n",
       "  <thead>\n",
       "    <tr style=\"text-align: right;\">\n",
       "      <th></th>\n",
       "      <th>NOC</th>\n",
       "      <th>region</th>\n",
       "      <th>notes</th>\n",
       "    </tr>\n",
       "  </thead>\n",
       "  <tbody>\n",
       "    <tr>\n",
       "      <th>0</th>\n",
       "      <td>AFG</td>\n",
       "      <td>Afghanistan</td>\n",
       "      <td>NaN</td>\n",
       "    </tr>\n",
       "    <tr>\n",
       "      <th>1</th>\n",
       "      <td>AHO</td>\n",
       "      <td>Curacao</td>\n",
       "      <td>Netherlands Antilles</td>\n",
       "    </tr>\n",
       "    <tr>\n",
       "      <th>2</th>\n",
       "      <td>ALB</td>\n",
       "      <td>Albania</td>\n",
       "      <td>NaN</td>\n",
       "    </tr>\n",
       "    <tr>\n",
       "      <th>3</th>\n",
       "      <td>ALG</td>\n",
       "      <td>Algeria</td>\n",
       "      <td>NaN</td>\n",
       "    </tr>\n",
       "    <tr>\n",
       "      <th>4</th>\n",
       "      <td>AND</td>\n",
       "      <td>Andorra</td>\n",
       "      <td>NaN</td>\n",
       "    </tr>\n",
       "  </tbody>\n",
       "</table>\n",
       "</div>"
      ],
      "text/plain": [
       "   NOC       region                 notes\n",
       "0  AFG  Afghanistan                   NaN\n",
       "1  AHO      Curacao  Netherlands Antilles\n",
       "2  ALB      Albania                   NaN\n",
       "3  ALG      Algeria                   NaN\n",
       "4  AND      Andorra                   NaN"
      ]
     },
     "execution_count": 9,
     "metadata": {},
     "output_type": "execute_result"
    }
   ],
   "source": [
    "print(regions_df.shape)\n",
    "regions_df.head()\n",
    "\n",
    "# result: this maps NOC code to a region, with notes"
   ]
  },
  {
   "cell_type": "code",
   "execution_count": 10,
   "metadata": {},
   "outputs": [
    {
     "name": "stdout",
     "output_type": "stream",
     "text": [
      "<class 'pandas.core.frame.DataFrame'>\n",
      "RangeIndex: 230 entries, 0 to 229\n",
      "Data columns (total 3 columns):\n",
      "NOC       230 non-null object\n",
      "region    227 non-null object\n",
      "notes     21 non-null object\n",
      "dtypes: object(3)\n",
      "memory usage: 5.5+ KB\n"
     ]
    }
   ],
   "source": [
    "regions_df.info()"
   ]
  },
  {
   "cell_type": "markdown",
   "metadata": {},
   "source": [
    "### Merging events_df and regions_df"
   ]
  },
  {
   "cell_type": "code",
   "execution_count": 11,
   "metadata": {},
   "outputs": [
    {
     "name": "stdout",
     "output_type": "stream",
     "text": [
      "Index(['ID', 'Name', 'Sex', 'Age', 'Height', 'Weight', 'Team', 'NOC', 'Games',\n",
      "       'Year', 'Season', 'City', 'Sport', 'Event', 'Medal'],\n",
      "      dtype='object')\n",
      "Index(['NOC', 'region', 'notes'], dtype='object')\n"
     ]
    }
   ],
   "source": [
    "print(events_df.columns)\n",
    "print(regions_df.columns)"
   ]
  },
  {
   "cell_type": "code",
   "execution_count": 12,
   "metadata": {},
   "outputs": [],
   "source": [
    "merged_df = events_df.merge(regions_df, on='NOC', how='outer')"
   ]
  },
  {
   "cell_type": "code",
   "execution_count": 13,
   "metadata": {},
   "outputs": [
    {
     "data": {
      "text/html": [
       "<div>\n",
       "<style scoped>\n",
       "    .dataframe tbody tr th:only-of-type {\n",
       "        vertical-align: middle;\n",
       "    }\n",
       "\n",
       "    .dataframe tbody tr th {\n",
       "        vertical-align: top;\n",
       "    }\n",
       "\n",
       "    .dataframe thead th {\n",
       "        text-align: right;\n",
       "    }\n",
       "</style>\n",
       "<table border=\"1\" class=\"dataframe\">\n",
       "  <thead>\n",
       "    <tr style=\"text-align: right;\">\n",
       "      <th></th>\n",
       "      <th>ID</th>\n",
       "      <th>Name</th>\n",
       "      <th>Sex</th>\n",
       "      <th>Age</th>\n",
       "      <th>Height</th>\n",
       "      <th>Weight</th>\n",
       "      <th>Team</th>\n",
       "      <th>NOC</th>\n",
       "      <th>Games</th>\n",
       "      <th>Year</th>\n",
       "      <th>Season</th>\n",
       "      <th>City</th>\n",
       "      <th>Sport</th>\n",
       "      <th>Event</th>\n",
       "      <th>Medal</th>\n",
       "      <th>region</th>\n",
       "      <th>notes</th>\n",
       "    </tr>\n",
       "  </thead>\n",
       "  <tbody>\n",
       "    <tr>\n",
       "      <th>0</th>\n",
       "      <td>1.0</td>\n",
       "      <td>A Dijiang</td>\n",
       "      <td>M</td>\n",
       "      <td>24.0</td>\n",
       "      <td>180.0</td>\n",
       "      <td>80.0</td>\n",
       "      <td>China</td>\n",
       "      <td>CHN</td>\n",
       "      <td>1992 Summer</td>\n",
       "      <td>1992.0</td>\n",
       "      <td>Summer</td>\n",
       "      <td>Barcelona</td>\n",
       "      <td>Basketball</td>\n",
       "      <td>Basketball Men's Basketball</td>\n",
       "      <td>NaN</td>\n",
       "      <td>China</td>\n",
       "      <td>NaN</td>\n",
       "    </tr>\n",
       "    <tr>\n",
       "      <th>1</th>\n",
       "      <td>2.0</td>\n",
       "      <td>A Lamusi</td>\n",
       "      <td>M</td>\n",
       "      <td>23.0</td>\n",
       "      <td>170.0</td>\n",
       "      <td>60.0</td>\n",
       "      <td>China</td>\n",
       "      <td>CHN</td>\n",
       "      <td>2012 Summer</td>\n",
       "      <td>2012.0</td>\n",
       "      <td>Summer</td>\n",
       "      <td>London</td>\n",
       "      <td>Judo</td>\n",
       "      <td>Judo Men's Extra-Lightweight</td>\n",
       "      <td>NaN</td>\n",
       "      <td>China</td>\n",
       "      <td>NaN</td>\n",
       "    </tr>\n",
       "    <tr>\n",
       "      <th>2</th>\n",
       "      <td>602.0</td>\n",
       "      <td>Abudoureheman</td>\n",
       "      <td>M</td>\n",
       "      <td>22.0</td>\n",
       "      <td>182.0</td>\n",
       "      <td>75.0</td>\n",
       "      <td>China</td>\n",
       "      <td>CHN</td>\n",
       "      <td>2000 Summer</td>\n",
       "      <td>2000.0</td>\n",
       "      <td>Summer</td>\n",
       "      <td>Sydney</td>\n",
       "      <td>Boxing</td>\n",
       "      <td>Boxing Men's Middleweight</td>\n",
       "      <td>NaN</td>\n",
       "      <td>China</td>\n",
       "      <td>NaN</td>\n",
       "    </tr>\n",
       "    <tr>\n",
       "      <th>3</th>\n",
       "      <td>1463.0</td>\n",
       "      <td>Ai Linuer</td>\n",
       "      <td>M</td>\n",
       "      <td>25.0</td>\n",
       "      <td>160.0</td>\n",
       "      <td>62.0</td>\n",
       "      <td>China</td>\n",
       "      <td>CHN</td>\n",
       "      <td>2004 Summer</td>\n",
       "      <td>2004.0</td>\n",
       "      <td>Summer</td>\n",
       "      <td>Athina</td>\n",
       "      <td>Wrestling</td>\n",
       "      <td>Wrestling Men's Lightweight, Greco-Roman</td>\n",
       "      <td>NaN</td>\n",
       "      <td>China</td>\n",
       "      <td>NaN</td>\n",
       "    </tr>\n",
       "    <tr>\n",
       "      <th>4</th>\n",
       "      <td>1464.0</td>\n",
       "      <td>Ai Yanhan</td>\n",
       "      <td>F</td>\n",
       "      <td>14.0</td>\n",
       "      <td>168.0</td>\n",
       "      <td>54.0</td>\n",
       "      <td>China</td>\n",
       "      <td>CHN</td>\n",
       "      <td>2016 Summer</td>\n",
       "      <td>2016.0</td>\n",
       "      <td>Summer</td>\n",
       "      <td>Rio de Janeiro</td>\n",
       "      <td>Swimming</td>\n",
       "      <td>Swimming Women's 200 metres Freestyle</td>\n",
       "      <td>NaN</td>\n",
       "      <td>China</td>\n",
       "      <td>NaN</td>\n",
       "    </tr>\n",
       "  </tbody>\n",
       "</table>\n",
       "</div>"
      ],
      "text/plain": [
       "       ID           Name Sex   Age  Height  Weight   Team  NOC        Games  \\\n",
       "0     1.0      A Dijiang   M  24.0   180.0    80.0  China  CHN  1992 Summer   \n",
       "1     2.0       A Lamusi   M  23.0   170.0    60.0  China  CHN  2012 Summer   \n",
       "2   602.0  Abudoureheman   M  22.0   182.0    75.0  China  CHN  2000 Summer   \n",
       "3  1463.0      Ai Linuer   M  25.0   160.0    62.0  China  CHN  2004 Summer   \n",
       "4  1464.0      Ai Yanhan   F  14.0   168.0    54.0  China  CHN  2016 Summer   \n",
       "\n",
       "     Year  Season            City       Sport  \\\n",
       "0  1992.0  Summer       Barcelona  Basketball   \n",
       "1  2012.0  Summer          London        Judo   \n",
       "2  2000.0  Summer          Sydney      Boxing   \n",
       "3  2004.0  Summer          Athina   Wrestling   \n",
       "4  2016.0  Summer  Rio de Janeiro    Swimming   \n",
       "\n",
       "                                      Event Medal region notes  \n",
       "0               Basketball Men's Basketball   NaN  China   NaN  \n",
       "1              Judo Men's Extra-Lightweight   NaN  China   NaN  \n",
       "2                 Boxing Men's Middleweight   NaN  China   NaN  \n",
       "3  Wrestling Men's Lightweight, Greco-Roman   NaN  China   NaN  \n",
       "4     Swimming Women's 200 metres Freestyle   NaN  China   NaN  "
      ]
     },
     "execution_count": 13,
     "metadata": {},
     "output_type": "execute_result"
    }
   ],
   "source": [
    "merged_df.head()"
   ]
  },
  {
   "cell_type": "markdown",
   "metadata": {},
   "source": [
    "## Reviewing missing data in the dataset\n",
    "* data missing for:\n",
    "    * height\n",
    "    * weight\n",
    "    * medals\n",
    "    \n",
    "To start, let's check the years where there exists missing data"
   ]
  },
  {
   "cell_type": "code",
   "execution_count": 14,
   "metadata": {},
   "outputs": [
    {
     "data": {
      "text/plain": [
       "array([1936., 1948., 1980., 1984., 1992., 2008., 1988., 1932., 1994.,\n",
       "       1998., 1996., 2002., 1952., 1920., 1900., 1908., 1928., 1912.,\n",
       "       1956., 1906., 1924., 1960., 1896., 2014., 1972., 1976., 1964.,\n",
       "       1904., 2016., 2000., 2004., 1968., 2012., 2006., 2010.,   nan])"
      ]
     },
     "execution_count": 14,
     "metadata": {},
     "output_type": "execute_result"
    }
   ],
   "source": [
    "# height\n",
    "merged_df[merged_df['Height'].isnull()]['Year'].unique()"
   ]
  },
  {
   "cell_type": "code",
   "execution_count": 15,
   "metadata": {},
   "outputs": [
    {
     "data": {
      "text/plain": [
       "array([1980., 1984., 1936., 2002., 1948., 1992., 2008., 1988., 1932.,\n",
       "       1994., 1998., 1996., 1952., 1920., 1900., 1908., 1928., 1912.,\n",
       "       1956., 1906., 1924., 1972., 2012., 2014., 1960., 1896., 1976.,\n",
       "       1964., 1904., 2016., 2006., 2000., 2004., 1968., 2010.,   nan])"
      ]
     },
     "execution_count": 15,
     "metadata": {},
     "output_type": "execute_result"
    }
   ],
   "source": [
    "# weight \n",
    "merged_df[merged_df['Weight'].isnull()]['Year'].unique()"
   ]
  },
  {
   "cell_type": "code",
   "execution_count": 16,
   "metadata": {},
   "outputs": [
    {
     "data": {
      "text/plain": [
       "array([1992., 2012., 2000., 2004., 2016., 2006., 1998., 2008., 1996.,\n",
       "       2014., 1984., 1936., 1980., 1988., 2010., 2002., 1948., 1994.,\n",
       "       1932., 1952., 1920., 1908., 1972., 1928., 1956., 1912., 1960.,\n",
       "       1924., 1964., 1976., 1968., 1906., 1900., 1896., 1904.,   nan])"
      ]
     },
     "execution_count": 16,
     "metadata": {},
     "output_type": "execute_result"
    }
   ],
   "source": [
    "# medals\n",
    "merged_df[merged_df['Medal'].isnull()]['Year'].unique()"
   ]
  },
  {
   "cell_type": "markdown",
   "metadata": {},
   "source": [
    "### Is it possible to calculate how many medals should have been awarded at each olympics, given the Events list?\n",
    "(Doing this will allow us to guage how much of the medal data is missing.)\n",
    "\n",
    "***summary of findings:***\n",
    "* cannot simply take Events and multiply by 3 to get total medals\n",
    "* there are team sports where the no. of medals is >3"
   ]
  },
  {
   "cell_type": "code",
   "execution_count": 17,
   "metadata": {
    "scrolled": true
   },
   "outputs": [
    {
     "data": {
      "text/plain": [
       "Year\n",
       "1896.0    [Weightlifting Men's Unlimited, One Hand, Weig...\n",
       "1900.0    [Tug-Of-War Men's Tug-Of-War, Fencing Men's Fo...\n",
       "1904.0    [Rowing Men's Coxed Eights, Golf Men's Individ...\n",
       "1906.0    [Football Men's Football, Gymnastics Men's Tea...\n",
       "1908.0    [Athletics Men's Hammer Throw, Wrestling Men's...\n",
       "Name: Event, dtype: object"
      ]
     },
     "execution_count": 17,
     "metadata": {},
     "output_type": "execute_result"
    }
   ],
   "source": [
    "# checking the events held per year, could use this as an indicator for how many medals SHOULD have been awarded\n",
    "events_group = merged_df.groupby('Year')['Event'].unique()\n",
    "events_group.head()"
   ]
  },
  {
   "cell_type": "code",
   "execution_count": 18,
   "metadata": {},
   "outputs": [
    {
     "name": "stdout",
     "output_type": "stream",
     "text": [
      "{1896.0: 129, 1900.0: 270, 1904.0: 285, 1906.0: 222, 1908.0: 327, 1912.0: 321, 1920.0: 474, 1924.0: 444, 1928.0: 408, 1932.0: 435, 1936.0: 501, 1948.0: 525, 1952.0: 513, 1956.0: 525, 1960.0: 531, 1964.0: 591, 1968.0: 621, 1972.0: 684, 1976.0: 705, 1980.0: 723, 1984.0: 780, 1988.0: 849, 1992.0: 942, 1994.0: 183, 1996.0: 813, 1998.0: 204, 2000.0: 900, 2002.0: 234, 2004.0: 903, 2006.0: 252, 2008.0: 906, 2010.0: 258, 2012.0: 906, 2014.0: 294, 2016.0: 918}\n"
     ]
    }
   ],
   "source": [
    "# assuming bronze, silver and gold is awarded for every event\n",
    "num_of_events = {}\n",
    "for ix, events in enumerate(events_group.values, 0):\n",
    "    # multiply by 3 for bronze, silver, gold\n",
    "    year = events_group.index[ix]\n",
    "    num_of_events[year] = len(events) * 3\n",
    "print(num_of_events)"
   ]
  },
  {
   "cell_type": "code",
   "execution_count": 19,
   "metadata": {
    "scrolled": true
   },
   "outputs": [
    {
     "data": {
      "text/plain": [
       "Year    Medal \n",
       "1896.0  NaN         237\n",
       "        Gold         62\n",
       "        Silver       43\n",
       "        Bronze       38\n",
       "1900.0  NaN        1332\n",
       "        Silver      228\n",
       "        Gold        201\n",
       "        Bronze      175\n",
       "1904.0  NaN         815\n",
       "        Gold        173\n",
       "        Silver      163\n",
       "        Bronze      150\n",
       "1906.0  NaN        1275\n",
       "        Gold        157\n",
       "        Silver      156\n",
       "        Bronze      145\n",
       "1908.0  NaN        2270\n",
       "        Gold        294\n",
       "        Silver      281\n",
       "        Bronze      256\n",
       "1912.0  NaN        3099\n",
       "        Gold        326\n",
       "        Silver      315\n",
       "        Bronze      300\n",
       "1920.0  NaN        2984\n",
       "        Gold        493\n",
       "        Silver      448\n",
       "        Bronze      367\n",
       "1924.0  NaN        4731\n",
       "        Gold        332\n",
       "                  ...  \n",
       "2002.0  Bronze      159\n",
       "        Silver      157\n",
       "2004.0  NaN       11442\n",
       "        Bronze      677\n",
       "        Gold        664\n",
       "        Silver      660\n",
       "2006.0  NaN        3856\n",
       "        Gold        176\n",
       "        Bronze      175\n",
       "        Silver      175\n",
       "2008.0  NaN       11554\n",
       "        Bronze      710\n",
       "        Gold        671\n",
       "        Silver      667\n",
       "2010.0  NaN        3882\n",
       "        Silver      175\n",
       "        Gold        174\n",
       "        Bronze      171\n",
       "2012.0  NaN       10979\n",
       "        Bronze      679\n",
       "        Gold        632\n",
       "        Silver      630\n",
       "2014.0  NaN        4294\n",
       "        Gold        202\n",
       "        Bronze      198\n",
       "        Silver      197\n",
       "2016.0  NaN       11665\n",
       "        Bronze      703\n",
       "        Gold        665\n",
       "        Silver      655\n",
       "Name: Medal, Length: 140, dtype: int64"
      ]
     },
     "execution_count": 19,
     "metadata": {},
     "output_type": "execute_result"
    }
   ],
   "source": [
    "# medals\n",
    "\n",
    "merged_df.groupby('Year')['Medal'].value_counts(dropna=False)\n",
    "\n",
    "# result: NaN's mean no medal OR maybe missing data, and there isn't an even award of gold, silver, bronze\n",
    "# uneven award of medals may be down to ties?"
   ]
  },
  {
   "cell_type": "code",
   "execution_count": 20,
   "metadata": {},
   "outputs": [
    {
     "data": {
      "text/plain": [
       "array([\"Swimming Women's 200 metres Freestyle\",\n",
       "       \"Swimming Women's 4 x 200 metres Freestyle Relay\",\n",
       "       \"Triathlon Men's Olympic Distance\",\n",
       "       \"Rhythmic Gymnastics Women's Group\",\n",
       "       \"Wrestling Men's Light-Heavyweight, Freestyle\",\n",
       "       \"Athletics Women's Shot Put\", \"Athletics Men's 20 kilometres Walk\",\n",
       "       \"Archery Women's Individual\", \"Archery Women's Team\",\n",
       "       \"Athletics Men's Triple Jump\",\n",
       "       \"Shooting Men's Air Rifle, 10 metres\",\n",
       "       \"Shooting Men's Small-Bore Rifle, Prone, 50 metres\",\n",
       "       \"Diving Men's Springboard\",\n",
       "       \"Diving Men's Synchronized Springboard\",\n",
       "       \"Swimming Women's 400 metres Freestyle\",\n",
       "       \"Modern Pentathlon Men's Individual\", \"Badminton Men's Doubles\",\n",
       "       \"Diving Men's Platform\", \"Diving Men's Synchronized Platform\",\n",
       "       \"Shooting Women's Trap\", \"Fencing Men's Foil, Individual\",\n",
       "       \"Fencing Men's Foil, Team\",\n",
       "       \"Swimming Women's 200 metres Backstroke\",\n",
       "       \"Weightlifting Men's Featherweight\", \"Badminton Men's Singles\",\n",
       "       \"Basketball Women's Basketball\", \"Sailing Women's Windsurfer\",\n",
       "       \"Modern Pentathlon Women's Individual\",\n",
       "       \"Diving Women's Synchronized Platform\",\n",
       "       \"Swimming Women's 100 metres Butterfly\",\n",
       "       \"Athletics Women's Discus Throw\",\n",
       "       \"Shooting Women's Sporting Pistol, 25 metres\",\n",
       "       \"Judo Men's Middleweight\", \"Hockey Women's Hockey\",\n",
       "       \"Gymnastics Men's Individual All-Around\",\n",
       "       \"Gymnastics Men's Team All-Around\",\n",
       "       \"Gymnastics Men's Floor Exercise\",\n",
       "       \"Gymnastics Men's Parallel Bars\",\n",
       "       \"Gymnastics Men's Horizontal Bar\", \"Gymnastics Men's Rings\",\n",
       "       \"Gymnastics Men's Pommelled Horse\",\n",
       "       \"Weightlifting Women's Middleweight\",\n",
       "       \"Wrestling Men's Super-Heavyweight, Freestyle\",\n",
       "       \"Table Tennis Women's Singles\", \"Table Tennis Women's Team\",\n",
       "       \"Volleyball Women's Volleyball\", \"Basketball Men's Basketball\",\n",
       "       \"Trampolining Men's Individual\", \"Athletics Men's Marathon\",\n",
       "       \"Shooting Women's Air Rifle, 10 metres\",\n",
       "       \"Shooting Women's Small-Bore Rifle, Three Positions, 50 metres\",\n",
       "       \"Rowing Women's Single Sculls\",\n",
       "       \"Cycling Men's Team Pursuit, 4,000 metres\",\n",
       "       \"Gymnastics Women's Team All-Around\",\n",
       "       \"Gymnastics Women's Floor Exercise\",\n",
       "       \"Gymnastics Women's Uneven Bars\",\n",
       "       \"Gymnastics Women's Balance Beam\", \"Golf Women's Individual\",\n",
       "       \"Swimming Women's 100 metres Backstroke\",\n",
       "       \"Swimming Women's 4 x 100 metres Medley Relay\",\n",
       "       \"Football Women's Football\", \"Athletics Men's Long Jump\",\n",
       "       \"Athletics Women's 4 x 100 metres Relay\", \"Cycling Women's Sprint\",\n",
       "       \"Cycling Women's Keirin\", \"Cycling Women's Team Sprint\",\n",
       "       \"Sailing Men's One Person Heavyweight Dinghy\",\n",
       "       \"Synchronized Swimming Women's Team\", \"Archery Men's Individual\",\n",
       "       \"Archery Men's Team\", \"Shooting Women's Air Pistol, 10 metres\",\n",
       "       \"Athletics Men's 50 kilometres Walk\", \"Fencing Women's epee, Team\",\n",
       "       \"Swimming Men's 4 x 100 metres Freestyle Relay\",\n",
       "       \"Trampolining Women's Individual\", \"Diving Women's Springboard\",\n",
       "       \"Swimming Women's 800 metres Freestyle\",\n",
       "       \"Shooting Men's Double Trap\", \"Boxing Men's Flyweight\",\n",
       "       \"Boxing Men's Light-Welterweight\",\n",
       "       \"Swimming Men's 200 metres Individual Medley\",\n",
       "       \"Athletics Women's Marathon\",\n",
       "       'Equestrianism Mixed Three-Day Event, Individual',\n",
       "       \"Athletics Men's Pole Vault\", \"Cycling Women's Team Pursuit\",\n",
       "       \"Sailing Women's Two Person Dinghy\",\n",
       "       \"Rowing Women's Lightweight Double Sculls\",\n",
       "       \"Synchronized Swimming Women's Duet\",\n",
       "       \"Shooting Men's Small-Bore Rifle, Three Positions, 50 metres\",\n",
       "       \"Rowing Women's Quadruple Sculls\",\n",
       "       \"Fencing Men's epee, Individual\",\n",
       "       \"Rowing Men's Lightweight Coxless Fours\",\n",
       "       \"Fencing Women's Foil, Individual\",\n",
       "       \"Swimming Men's 100 metres Backstroke\",\n",
       "       \"Swimming Men's 200 metres Backstroke\", \"Golf Men's Individual\",\n",
       "       \"Athletics Women's Pole Vault\", \"Athletics Women's Javelin Throw\",\n",
       "       \"Canoeing Women's Kayak Singles, Slalom\",\n",
       "       \"Boxing Women's Middleweight\",\n",
       "       \"Canoeing Men's Canadian Singles, 200 metres\",\n",
       "       \"Swimming Men's 100 metres Breaststroke\",\n",
       "       \"Swimming Men's 200 metres Breaststroke\",\n",
       "       \"Swimming Men's 4 x 100 metres Medley Relay\",\n",
       "       \"Athletics Women's Triple Jump\", \"Badminton Women's Singles\",\n",
       "       \"Weightlifting Women's Featherweight\",\n",
       "       \"Canoeing Women's Kayak Fours, 500 metres\",\n",
       "       \"Shooting Men's Rapid-Fire Pistol, 25 metres\",\n",
       "       \"Swimming Men's 100 metres Butterfly\",\n",
       "       \"Swimming Men's 200 metres Butterfly\",\n",
       "       \"Athletics Women's 20 kilometres Walk\",\n",
       "       \"Athletics Women's Hammer Throw\", \"Boxing Men's Welterweight\",\n",
       "       \"Swimming Women's 50 metres Freestyle\",\n",
       "       \"Weightlifting Men's Bantamweight\", \"Boxing Men's Light-Flyweight\",\n",
       "       \"Weightlifting Men's Middleweight\", \"Rowing Women's Double Sculls\",\n",
       "       \"Cycling Women's Omnium\", \"Badminton Women's Doubles\",\n",
       "       \"Judo Men's Half-Lightweight\", \"Water Polo Women's Water Polo\",\n",
       "       'Badminton Mixed Doubles', \"Table Tennis Men's Singles\",\n",
       "       \"Table Tennis Men's Team\",\n",
       "       \"Canoeing Women's Kayak Doubles, 500 metres\",\n",
       "       \"Judo Women's Half-Lightweight\",\n",
       "       \"Wrestling Men's Super-Heavyweight, Greco-Roman\",\n",
       "       \"Weightlifting Women's Super-Heavyweight\",\n",
       "       \"Rowing Women's Coxless Pairs\",\n",
       "       \"Swimming Men's 50 metres Freestyle\",\n",
       "       \"Swimming Men's 100 metres Freestyle\",\n",
       "       \"Shooting Men's Air Pistol, 10 metres\",\n",
       "       \"Shooting Men's Free Pistol, 50 metres\",\n",
       "       \"Wrestling Men's Light-Heavyweight, Greco-Roman\",\n",
       "       \"Tennis Women's Singles\", \"Tennis Women's Doubles\",\n",
       "       \"Taekwondo Men's Heavyweight\",\n",
       "       \"Swimming Men's 400 metres Freestyle\",\n",
       "       \"Swimming Men's 1,500 metres Freestyle\",\n",
       "       \"Boxing Women's Flyweight\", \"Diving Women's Platform\",\n",
       "       \"Judo Men's Lightweight\", \"Boxing Men's Lightweight\",\n",
       "       \"Gymnastics Women's Individual All-Around\",\n",
       "       \"Swimming Men's 200 metres Freestyle\",\n",
       "       \"Rhythmic Gymnastics Women's Individual\",\n",
       "       \"Fencing Women's Sabre, Individual\",\n",
       "       \"Swimming Women's 100 metres Freestyle\",\n",
       "       \"Swimming Women's 4 x 100 metres Freestyle Relay\",\n",
       "       \"Swimming Women's 100 metres Breaststroke\",\n",
       "       \"Swimming Women's 200 metres Breaststroke\",\n",
       "       \"Diving Women's Synchronized Springboard\",\n",
       "       \"Weightlifting Men's Lightweight\",\n",
       "       \"Canoeing Men's Canadian Singles, Slalom\",\n",
       "       \"Athletics Men's 100 metres\",\n",
       "       \"Athletics Men's 4 x 100 metres Relay\",\n",
       "       \"Rowing Men's Lightweight Double Sculls\",\n",
       "       \"Fencing Men's Sabre, Individual\",\n",
       "       \"Wrestling Women's Flyweight, Freestyle\",\n",
       "       \"Fencing Women's epee, Individual\",\n",
       "       \"Canoeing Men's Kayak Singles, Slalom\",\n",
       "       \"Weightlifting Men's Light-Heavyweight\",\n",
       "       \"Sailing Men's Windsurfer\", \"Athletics Women's 800 metres\",\n",
       "       \"Beach Volleyball Women's Beach Volleyball\",\n",
       "       \"Triathlon Women's Olympic Distance\",\n",
       "       \"Wrestling Men's Featherweight, Greco-Roman\",\n",
       "       \"Swimming Men's 400 metres Individual Medley\",\n",
       "       \"Sailing Men's Two Person Dinghy\",\n",
       "       \"Gymnastics Women's Horse Vault\", \"Athletics Men's High Jump\",\n",
       "       \"Cycling Men's Mountainbike, Cross-Country\",\n",
       "       \"Shooting Women's Skeet\", \"Athletics Women's 100 metres\",\n",
       "       \"Taekwondo Women's Flyweight\",\n",
       "       \"Athletics Women's 100 metres Hurdles\",\n",
       "       \"Weightlifting Women's Light-Heavyweight\",\n",
       "       \"Wrestling Men's Heavyweight, Greco-Roman\",\n",
       "       \"Athletics Men's 110 metres Hurdles\",\n",
       "       \"Swimming Women's 10 kilometres Open Water\",\n",
       "       \"Cycling Men's Sprint\", \"Sailing Women's One Person Dinghy\",\n",
       "       \"Wrestling Women's Middleweight, Freestyle\",\n",
       "       \"Wrestling Men's Middleweight, Greco-Roman\",\n",
       "       \"Judo Women's Half-Middleweight\",\n",
       "       \"Weightlifting Men's Heavyweight\",\n",
       "       \"Cycling Women's Mountainbike, Cross-Country\",\n",
       "       \"Swimming Women's 200 metres Individual Medley\",\n",
       "       \"Swimming Women's 400 metres Individual Medley\",\n",
       "       \"Wrestling Men's Welterweight, Freestyle\",\n",
       "       \"Boxing Women's Lightweight\", \"Boxing Men's Heavyweight\",\n",
       "       \"Judo Women's Heavyweight\",\n",
       "       \"Wrestling Women's Heavyweight, Freestyle\",\n",
       "       \"Boxing Men's Bantamweight\",\n",
       "       \"Athletics Women's 3,000 metres Steeplechase\",\n",
       "       \"Swimming Women's 200 metres Butterfly\",\n",
       "       \"Judo Women's Half-Heavyweight\", \"Boxing Men's Middleweight\",\n",
       "       \"Taekwondo Men's Flyweight\", \"Taekwondo Women's Heavyweight\",\n",
       "       \"Wrestling Women's Featherweight, Freestyle\",\n",
       "       \"Judo Women's Middleweight\",\n",
       "       \"Wrestling Women's Light-Heavyweight, Freestyle\",\n",
       "       \"Canoeing Women's Kayak Singles, 200 metres\",\n",
       "       \"Canoeing Women's Kayak Singles, 500 metres\",\n",
       "       \"Swimming Men's 10 kilometres Open Water\",\n",
       "       \"Football Men's Football\", \"Athletics Men's 800 metres\",\n",
       "       \"Cycling Women's BMX\", \"Handball Men's Handball\",\n",
       "       'Equestrianism Mixed Dressage, Individual',\n",
       "       'Equestrianism Mixed Dressage, Team',\n",
       "       \"Swimming Men's 4 x 200 metres Freestyle Relay\",\n",
       "       \"Cycling Men's Road Race, Individual\", \"Sailing Women's Skiff\",\n",
       "       \"Shooting Men's Skeet\", \"Cycling Men's Omnium\",\n",
       "       \"Sailing Men's One Person Dinghy\",\n",
       "       \"Athletics Men's 3,000 metres Steeplechase\",\n",
       "       \"Cycling Men's Individual Time Trial\", \"Cycling Men's BMX\",\n",
       "       \"Sailing Men's Skiff\", 'Sailing Mixed Multihull',\n",
       "       \"Canoeing Men's Kayak Singles, 1,000 metres\",\n",
       "       \"Athletics Women's 400 metres Hurdles\",\n",
       "       \"Handball Women's Handball\", \"Hockey Men's Hockey\",\n",
       "       \"Rowing Women's Coxed Eights\", 'Tennis Mixed Doubles',\n",
       "       'Equestrianism Mixed Three-Day Event, Team',\n",
       "       \"Athletics Men's 200 metres\", \"Athletics Men's 400 metres\",\n",
       "       \"Cycling Men's Keirin\", \"Cycling Men's Team Sprint\",\n",
       "       \"Rowing Men's Coxless Pairs\", \"Athletics Men's Decathlon\",\n",
       "       \"Athletics Women's Heptathlon\",\n",
       "       \"Beach Volleyball Men's Beach Volleyball\",\n",
       "       \"Judo Men's Half-Middleweight\",\n",
       "       \"Athletics Women's 4 x 400 metres Relay\",\n",
       "       'Equestrianism Mixed Jumping, Individual',\n",
       "       'Equestrianism Mixed Jumping, Team', \"Judo Men's Half-Heavyweight\",\n",
       "       \"Tennis Men's Singles\", \"Tennis Men's Doubles\",\n",
       "       \"Athletics Women's 1,500 metres\", \"Rowing Men's Coxed Eights\",\n",
       "       \"Athletics Women's 5,000 metres\",\n",
       "       \"Athletics Women's 10,000 metres\", \"Rowing Men's Coxless Fours\",\n",
       "       \"Judo Men's Heavyweight\", \"Judo Men's Extra-Lightweight\",\n",
       "       \"Boxing Men's Light-Heavyweight\", \"Athletics Women's 200 metres\",\n",
       "       \"Cycling Women's Road Race, Individual\",\n",
       "       \"Cycling Women's Individual Time Trial\",\n",
       "       \"Judo Women's Lightweight\", \"Fencing Women's Sabre, Team\",\n",
       "       \"Volleyball Men's Volleyball\", \"Athletics Men's 1,500 metres\",\n",
       "       \"Weightlifting Women's Heavyweight\", \"Water Polo Men's Water Polo\",\n",
       "       \"Athletics Men's Discus Throw\", \"Rugby Sevens Men's Rugby Sevens\",\n",
       "       \"Rugby Sevens Women's Rugby Sevens\",\n",
       "       \"Wrestling Men's Middleweight, Freestyle\",\n",
       "       \"Athletics Men's 5,000 metres\",\n",
       "       \"Athletics Men's 400 metres Hurdles\",\n",
       "       \"Athletics Men's 4 x 400 metres Relay\", \"Athletics Men's Shot Put\",\n",
       "       \"Athletics Men's Javelin Throw\", \"Athletics Women's High Jump\",\n",
       "       \"Gymnastics Men's Horse Vault\", \"Athletics Women's Long Jump\",\n",
       "       \"Wrestling Men's Featherweight, Freestyle\",\n",
       "       \"Canoeing Men's Canadian Doubles, Slalom\",\n",
       "       \"Weightlifting Men's Middle-Heavyweight\",\n",
       "       \"Athletics Women's 400 metres\", \"Athletics Men's Hammer Throw\",\n",
       "       \"Weightlifting Women's Flyweight\", \"Athletics Men's 10,000 metres\",\n",
       "       \"Taekwondo Men's Welterweight\", \"Taekwondo Women's Welterweight\",\n",
       "       \"Wrestling Men's Heavyweight, Freestyle\",\n",
       "       \"Taekwondo Women's Featherweight\",\n",
       "       \"Wrestling Women's Lightweight, Freestyle\", \"Shooting Men's Trap\",\n",
       "       \"Wrestling Men's Welterweight, Greco-Roman\",\n",
       "       \"Rowing Men's Double Sculls\", \"Rowing Men's Single Sculls\",\n",
       "       \"Boxing Men's Super-Heavyweight\", \"Judo Women's Extra-Lightweight\",\n",
       "       \"Rowing Men's Quadruple Sculls\",\n",
       "       \"Weightlifting Men's Super-Heavyweight\",\n",
       "       \"Canoeing Men's Canadian Singles, 1,000 metres\",\n",
       "       \"Canoeing Men's Kayak Singles, 200 metres\",\n",
       "       \"Canoeing Men's Kayak Doubles, 200 metres\",\n",
       "       \"Fencing Men's epee, Team\",\n",
       "       \"Canoeing Men's Kayak Fours, 1,000 metres\",\n",
       "       \"Canoeing Men's Kayak Doubles, 1,000 metres\",\n",
       "       \"Taekwondo Men's Featherweight\",\n",
       "       \"Canoeing Men's Canadian Doubles, 1,000 metres\",\n",
       "       \"Weightlifting Women's Lightweight\"], dtype=object)"
      ]
     },
     "execution_count": 20,
     "metadata": {},
     "output_type": "execute_result"
    }
   ],
   "source": [
    "# checking events\n",
    "events_group.iloc[-1]\n",
    "\n",
    "# result: no trivial way of estimating how many medals are should have been awarded given Events\n",
    "# this is because some events are team events, wherein many medals are awarded to whole teams"
   ]
  },
  {
   "cell_type": "markdown",
   "metadata": {},
   "source": [
    "### Visualising medal data:"
   ]
  },
  {
   "cell_type": "code",
   "execution_count": 39,
   "metadata": {},
   "outputs": [
    {
     "data": {
      "text/plain": [
       "<matplotlib.axes._subplots.AxesSubplot at 0x1216b3780>"
      ]
     },
     "execution_count": 39,
     "metadata": {},
     "output_type": "execute_result"
    },
    {
     "data": {
      "image/png": "[encoded data removed]",
      "text/plain": [
       "<Figure size 1200x600 with 1 Axes>"
      ]
     },
     "metadata": {},
     "output_type": "display_data"
    }
   ],
   "source": [
    "merged_df.groupby('Year')['Medal'].value_counts().unstack().plot(kind='bar')\n",
    "\n",
    "# result: following 1992 the winter and summer olympics are held on different years"
   ]
  },
  {
   "cell_type": "markdown",
   "metadata": {},
   "source": [
    "### what is the age distribution of medalists and how does this compare to the age distribution of all athletes?"
   ]
  },
  {
   "cell_type": "code",
   "execution_count": 29,
   "metadata": {
    "scrolled": false
   },
   "outputs": [
    {
     "name": "stdout",
     "output_type": "stream",
     "text": [
      "25.556898357297374\n",
      "weighted avg age of all atheletes: 25.556898357297374\n"
     ]
    },
    {
     "data": {
      "text/plain": [
       "Text(0,0.5,'Count')"
      ]
     },
     "execution_count": 29,
     "metadata": {},
     "output_type": "execute_result"
    },
    {
     "data": {
      "image/png": "[encoded data removed]",
      "text/plain": [
       "<Figure size 1200x600 with 1 Axes>"
      ]
     },
     "metadata": {},
     "output_type": "display_data"
    }
   ],
   "source": [
    "# age distribution of all athletes\n",
    "all_age = merged_df[(merged_df['Age'].notnull())]['Age'].value_counts()\n",
    "\n",
    "# weighted average\n",
    "avg_age_all = np.average(all_age.index, weights=all_age.values)\n",
    "\n",
    "print(avg_age_all)\n",
    "\n",
    "print('weighted avg age of all atheletes:', avg_age_all)\n",
    "\n",
    "# plotting\n",
    "plt.bar(all_age.index, all_age.values)\n",
    "plt.title('Age Distribution of All Athletes')\n",
    "plt.xlabel('Age')\n",
    "plt.axvline(x=avg_age_all, color='k', linestyle='--', label='weighted average age')\n",
    "plt.legend()\n",
    "plt.ylabel('Count')"
   ]
  },
  {
   "cell_type": "code",
   "execution_count": 30,
   "metadata": {},
   "outputs": [
    {
     "name": "stdout",
     "output_type": "stream",
     "text": [
      "weighted avg age of all medalists: 25.925174771452717\n",
      "weighted avg age of gold: 25.901013309134907\n",
      "weight avg age of silver: 25.99672412448327\n",
      "weight avg age of bronze: 25.879209595571275\n"
     ]
    },
    {
     "data": {
      "text/plain": [
       "Text(0,0.5,'Count')"
      ]
     },
     "execution_count": 30,
     "metadata": {},
     "output_type": "execute_result"
    },
    {
     "data": {
      "image/png": "[encoded data removed]",
      "text/plain": [
       "<Figure size 1200x600 with 1 Axes>"
      ]
     },
     "metadata": {},
     "output_type": "display_data"
    }
   ],
   "source": [
    "# age of medalists, for all years\n",
    "medalists_all = merged_df[(merged_df['Medal'].notnull()) & (merged_df['Age'].notnull())]\n",
    "# gold\n",
    "medalists_gold = medalists_all[(medalists_all['Medal']=='Gold')]\n",
    "# silver\n",
    "medalists_silver = medalists_all[(medalists_all['Medal']=='Silver')]\n",
    "# bronze\n",
    "medalists_bronze = medalists_all[(medalists_all['Medal']=='Bronze')]\n",
    "\n",
    "\n",
    "medalists_all_age = medalists_all['Age'].value_counts()\n",
    "medalists_gold_age = medalists_gold['Age'].value_counts()\n",
    "medalists_silver_age = medalists_silver['Age'].value_counts()\n",
    "medalists_bronze_age = medalists_bronze['Age'].value_counts()\n",
    "\n",
    "# weighted average\n",
    "avg_age_all = np.average(medalists_all_age.index, weights=medalists_all_age.values)\n",
    "avg_age_gold = np.average(medalists_gold_age.index, weights=medalists_gold_age.values)\n",
    "avg_age_silver = np.average(medalists_silver_age.index, weights=medalists_silver_age.values)\n",
    "avg_age_bronze = np.average(medalists_bronze_age.index, weights=medalists_bronze_age.values)\n",
    "\n",
    "print('weighted avg age of all medalists:', avg_age_all)\n",
    "print('weighted avg age of gold:', avg_age_gold)\n",
    "print('weight avg age of silver:', avg_age_silver)\n",
    "print('weight avg age of bronze:', avg_age_bronze)\n",
    "\n",
    "# plotting\n",
    "plt.bar(medalists_all_age.index, medalists_all_age.values)\n",
    "# plt.bar(medalists_gold_age.index, medalists_gold_age.values, label='gold', alpha=0.5)\n",
    "# plt.bar(medalists_silver_age.index, medalists_silver_age.values, label='silver', alpha=0.5)\n",
    "# plt.bar(medalists_bronze_age.index, medalists_bronze_age.values, label='bronze', alpha=0.5)\n",
    "plt.title('Age Distribution of Medalists Across All Years')\n",
    "plt.xlabel('Age')\n",
    "plt.axvline(x=avg_age_all, color='k', linestyle='--', label='weighted average age')\n",
    "plt.legend()\n",
    "plt.ylabel('Count')"
   ]
  },
  {
   "cell_type": "code",
   "execution_count": 40,
   "metadata": {},
   "outputs": [
    {
     "data": {
      "text/plain": [
       "M    196594\n",
       "F     74522\n",
       "Name: Sex, dtype: int64"
      ]
     },
     "execution_count": 40,
     "metadata": {},
     "output_type": "execute_result"
    }
   ],
   "source": [
    "merged_df['Sex'].value_counts()"
   ]
  },
  {
   "cell_type": "code",
   "execution_count": 42,
   "metadata": {},
   "outputs": [
    {
     "data": {
      "text/plain": [
       "Text(0,0.5,'Count')"
      ]
     },
     "execution_count": 42,
     "metadata": {},
     "output_type": "execute_result"
    },
    {
     "data": {
      "image/png": "[encoded data removed]",
      "text/plain": [
       "<Figure size 1200x600 with 1 Axes>"
      ]
     },
     "metadata": {},
     "output_type": "display_data"
    }
   ],
   "source": [
    "# normalising and overlaying age distributions\n",
    "\n",
    "all_age = merged_df[(merged_df['Age'].notnull())]['Age'].value_counts(normalize=True)\n",
    "medalists_all_age = medalists_all['Age'].value_counts(normalize=True)\n",
    "\n",
    "plt.bar(all_age.index, all_age.values, label='all athletes', alpha=0.6)\n",
    "plt.bar(medalists_all_age.index, medalists_all_age.values, label='medalists', alpha=0.6)\n",
    "\n",
    "\n",
    "avg_age_medalists = np.average(medalists_all_age.index, weights=medalists_all_age.values)\n",
    "avg_age_all = np.average(all_age.index, weights=all_age.values)\n",
    "\n",
    "plt.title('Age Distribution of Medalists Across All Years')\n",
    "plt.xlabel('Age')\n",
    "plt.axvline(x=avg_age_medalists, color='k', linestyle='--', label='all medalists avg weighted age')\n",
    "plt.axvline(x=avg_age_all, color='r', linestyle='--', label='all athletes avg weighted age')\n",
    "plt.legend()\n",
    "plt.ylabel('Count')\n",
    "\n",
    "# result, medalists are actually marginally older, but no significant difference. will need to explore this further per year."
   ]
  },
  {
   "cell_type": "markdown",
   "metadata": {},
   "source": [
    "### exploring missing values for height and weight"
   ]
  },
  {
   "cell_type": "code",
   "execution_count": null,
   "metadata": {},
   "outputs": [],
   "source": [
    "# height\n",
    "merged_df.groupby(['Year'])"
   ]
  },
  {
   "cell_type": "code",
   "execution_count": null,
   "metadata": {},
   "outputs": [],
   "source": []
  }
 ],
 "metadata": {
  "kernelspec": {
   "display_name": "Python 3",
   "language": "python",
   "name": "python3"
  },
  "language_info": {
   "codemirror_mode": {
    "name": "ipython",
    "version": 3
   },
   "file_extension": ".py",
   "mimetype": "text/x-python",
   "name": "python",
   "nbconvert_exporter": "python",
   "pygments_lexer": "ipython3",
   "version": "3.6.5"
  }
 },
 "nbformat": 4,
 "nbformat_minor": 2
}
